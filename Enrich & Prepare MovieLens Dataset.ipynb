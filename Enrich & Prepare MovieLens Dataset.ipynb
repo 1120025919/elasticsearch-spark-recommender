{
 "cells": [
  {
   "cell_type": "markdown",
   "metadata": {
    "deletable": true,
    "editable": true
   },
   "source": [
    "# Create enriched movie dataset from The Movie Database API\n",
    "\n",
    "* MovieLens latest data can be downloaded at http://grouplens.org/datasets/movielens/\n",
    "* This demo uses the `ml-latest-small` dataset of 100k ratings, 9k movies and 700 users\n",
    "* Data enrichment requires access to [The Movie Database API](https://www.themoviedb.org/documentation/api)"
   ]
  },
  {
   "cell_type": "markdown",
   "metadata": {
    "deletable": true,
    "editable": true
   },
   "source": [
    "**Note** set up index mappings _before_ loading data\n",
    "\n",
    "_Using Spark 2.1.0 and Elasticsearch 5.3.0_"
   ]
  },
  {
   "cell_type": "markdown",
   "metadata": {
    "deletable": true,
    "editable": true
   },
   "source": [
    "## Step 1: Create index mappings in Elasticsearch\n",
    "\n",
    "References:\n",
    "* [Create index request](https://www.elastic.co/guide/en/elasticsearch/reference/current/indices-create-index.html)\n",
    "* [Delimited payload filter](https://www.elastic.co/guide/en/elasticsearch/reference/2.4/analysis-delimited-payload-tokenfilter.html)\n",
    "* [Term vectors](https://www.elastic.co/guide/en/elasticsearch/reference/2.4/docs-termvectors.html#_term_information)\n",
    "* [Mapping](https://www.elastic.co/guide/en/elasticsearch/reference/2.4/mapping.html)"
   ]
  },
  {
   "cell_type": "code",
   "execution_count": null,
   "metadata": {
    "collapsed": false,
    "deletable": true,
    "editable": true
   },
   "outputs": [],
   "source": [
    "from elasticsearch import Elasticsearch\n",
    "es = Elasticsearch()\n",
    "\n",
    "create_index = {\n",
    "    \"settings\": {\n",
    "        \"analysis\": {\n",
    "            \"analyzer\": {\n",
    "                \"payload_analyzer\": {\n",
    "                    \"type\": \"custom\",\n",
    "                    \"tokenizer\":\"whitespace\",\n",
    "                    \"filter\":\"delimited_payload_filter\"\n",
    "                }\n",
    "            }\n",
    "        }\n",
    "    },\n",
    "    \"mappings\": {\n",
    "        \"ratings\": {\n",
    "          \"properties\": {\n",
    "                \"timestamp\": {\n",
    "                    \"type\": \"date\"\n",
    "                },\n",
    "                \"userId\": {\n",
    "                    \"type\": \"keyword\"\n",
    "                },\n",
    "                \"movieId\": {\n",
    "                    \"type\": \"keyword\"\n",
    "                },\n",
    "                \"rating\": {\n",
    "                    \"type\": \"double\"\n",
    "                }\n",
    "            }  \n",
    "        },\n",
    "        \"users\": {\n",
    "            \"properties\": {\n",
    "                \"name\": {\n",
    "                    \"type\": \"text\"\n",
    "                },\n",
    "                \"@model\": {\n",
    "                    \"properties\": {\n",
    "                        \"factor\": {\n",
    "                            \"type\": \"text\",\n",
    "                            \"term_vector\": \"with_positions_offsets_payloads\",\n",
    "                            \"analyzer\" : \"payload_analyzer\"\n",
    "                        },\n",
    "                        \"version\": {\n",
    "                            \"type\": \"keyword\"\n",
    "                        }\n",
    "                    }\n",
    "                }\n",
    "            }\n",
    "        },\n",
    "        \"movies\": {\n",
    "            \"properties\": {\n",
    "                \"genres\": {\n",
    "                    \"type\": \"keyword\"\n",
    "                },\n",
    "                \"original_language\": {\n",
    "                    \"type\": \"keyword\"\n",
    "                },\n",
    "                \"image_url\": {\n",
    "                    \"type\": \"keyword\"       \n",
    "                },\n",
    "                \"release_date\": {\n",
    "                    \"type\": \"date\"\n",
    "                },\n",
    "                \"popularity\": {\n",
    "                    \"type\": \"double\"\n",
    "                },\n",
    "                \"@model\": {\n",
    "                    \"properties\": {\n",
    "                        \"factor\": {\n",
    "                            \"type\": \"text\",\n",
    "                            \"term_vector\": \"with_positions_offsets_payloads\",\n",
    "                            \"analyzer\" : \"payload_analyzer\"\n",
    "                        },\n",
    "                        \"version\": {\n",
    "                            \"type\": \"keyword\"\n",
    "                        }\n",
    "                    }\n",
    "                }\n",
    "            }\n",
    "        }\n",
    "    }\n",
    "}\n",
    "# create index with the settings & mappings above\n",
    "es.indices.create(index=\"demo\", body=create_index)"
   ]
  },
  {
   "cell_type": "markdown",
   "metadata": {
    "deletable": true,
    "editable": true
   },
   "source": [
    "## Step 2: Load ratings data into Elasticsearch"
   ]
  },
  {
   "cell_type": "code",
   "execution_count": null,
   "metadata": {
    "collapsed": false,
    "deletable": true,
    "editable": true
   },
   "outputs": [],
   "source": [
    "# Load data from CSV\n",
    "ratings = spark.read.csv(\"data/ml-latest-small/ratings.csv\", header=True, inferSchema=True)\n",
    "ratings.show(5)"
   ]
  },
  {
   "cell_type": "code",
   "execution_count": null,
   "metadata": {
    "collapsed": false,
    "deletable": true,
    "editable": true
   },
   "outputs": [],
   "source": [
    "# write to ES\n",
    "ratings.write.format(\"es\").save(\"demo/ratings\")"
   ]
  },
  {
   "cell_type": "code",
   "execution_count": null,
   "metadata": {
    "collapsed": false,
    "deletable": true,
    "editable": true
   },
   "outputs": [],
   "source": [
    "# check write went ok\n",
    "print \"Dataframe count: %d\" % ratings.count()\n",
    "print \"ES index count:  %d\" % es.count(index=\"demo\", doc_type=\"ratings\")['count']"
   ]
  },
  {
   "cell_type": "markdown",
   "metadata": {
    "deletable": true,
    "editable": true
   },
   "source": [
    "## Step 3: Generate random names for each unique user and save to ES"
   ]
  },
  {
   "cell_type": "code",
   "execution_count": null,
   "metadata": {
    "collapsed": false,
    "deletable": true,
    "editable": true
   },
   "outputs": [],
   "source": [
    "import names\n",
    "from pyspark.sql.functions import udf\n",
    "from pyspark.sql.types import *\n",
    "# define UDF to create random user names\n",
    "random_name = udf(lambda x: names.get_full_name(), StringType())"
   ]
  },
  {
   "cell_type": "code",
   "execution_count": null,
   "metadata": {
    "collapsed": false,
    "deletable": true,
    "editable": true
   },
   "outputs": [],
   "source": [
    "users = ratings.select(\"userId\").distinct().select(\"userId\", random_name(\"userId\").alias(\"name\"))\n",
    "users.write.format(\"es\").option(\"es.mapping.id\", \"userId\").save(\"demo/users\")"
   ]
  },
  {
   "cell_type": "code",
   "execution_count": null,
   "metadata": {
    "collapsed": false,
    "deletable": true,
    "editable": true
   },
   "outputs": [],
   "source": [
    "# check write went ok\n",
    "print \"User DF count: %d\" % users.count()\n",
    "print \"ES index count: %d\" % es.count(index=\"demo\", doc_type=\"users\")['count']"
   ]
  },
  {
   "cell_type": "markdown",
   "metadata": {
    "deletable": true,
    "editable": true
   },
   "source": [
    "## Step 4: Enrich movie data with TMDB metadata\n",
    "\n",
    "**NOTE** this can take a while as it involves HTTP API calls!"
   ]
  },
  {
   "cell_type": "code",
   "execution_count": null,
   "metadata": {
    "collapsed": true,
    "deletable": true,
    "editable": true
   },
   "outputs": [],
   "source": [
    "# define a UDF to convert the raw genres string to an array\n",
    "extract_genres = udf(lambda x: x.split(\"|\"), ArrayType(StringType()))"
   ]
  },
  {
   "cell_type": "code",
   "execution_count": null,
   "metadata": {
    "collapsed": false,
    "deletable": true,
    "editable": true
   },
   "outputs": [],
   "source": [
    "# load raw data from CSV\n",
    "raw_movies = spark.read.csv(\"data/ml-latest-small/movies.csv\", header=True, inferSchema=True)\n",
    "link_data = spark.read.csv(\"data/ml-latest-small/links.csv\", header=True, inferSchema=True)\n",
    "# we'll extract the genres to an array\n",
    "movies = raw_movies.select(\"movieId\", \"title\", extract_genres(\"genres\").alias(\"genres\"))\n",
    "# join movies with links to get TMDB id\n",
    "movie_data = movies.join(link_data, movies.movieId == link_data.movieId)\\\n",
    "    .select(movies.movieId, movies.title, movies.genres, link_data.tmdbId)\n",
    "num_movies = movie_data.count()\n",
    "movie_data.show(5)"
   ]
  },
  {
   "cell_type": "code",
   "execution_count": null,
   "metadata": {
    "collapsed": true,
    "deletable": true,
    "editable": true
   },
   "outputs": [],
   "source": [
    "import tmdbsimple as tmdb\n",
    "tmdb.API_KEY = 'YOUR_KEY'\n",
    "# base URL for TMDB poster images\n",
    "IMAGE_URL = 'https://image.tmdb.org/t/p/w500'\n",
    "import csv\n",
    "from requests import HTTPError"
   ]
  },
  {
   "cell_type": "code",
   "execution_count": null,
   "metadata": {
    "collapsed": false,
    "deletable": true,
    "editable": true
   },
   "outputs": [],
   "source": [
    "data = movie_data.collect()\n",
    "enriched = []\n",
    "i = 0\n",
    "for row in data:\n",
    "    try:\n",
    "        m = tmdb.Movies(row.tmdbId).info()\n",
    "        poster_url = IMAGE_URL + m['poster_path'] if 'poster_path' in m and m['poster_path'] is not None else \"\"\n",
    "        movie = {\n",
    "            \"movieId\": row.movieId,\n",
    "            \"title\": m['title'],\n",
    "            \"originalTitle\": row.title,\n",
    "            \"genres\": row.genres,\n",
    "            \"overview\": m['overview'],\n",
    "            \"release_date\": m['release_date'],\n",
    "            \"popularity\": m['popularity'],\n",
    "            \"original_language\": m['original_language'],\n",
    "            \"image_url\": poster_url\n",
    "        }\n",
    "        enriched.append(movie)\n",
    "    except HTTPError as e:\n",
    "        print \"Encountered error: %s for movieId=%d title=%s\" % (e, row.movieId, row.title)\n",
    "        movie = {\n",
    "            \"movieId\": row.movieId,\n",
    "            \"title\": row.title,\n",
    "            \"originalTitle\": row.title,\n",
    "            \"genres\": row.genres,\n",
    "            \"overview\": \"\",\n",
    "            \"release_date\": \"\",\n",
    "            \"popularity\": 0,\n",
    "            \"original_language\": \"\",\n",
    "            \"image_url\": \"\"\n",
    "        }\n",
    "        enriched.append(movie)\n",
    "    i += 1\n",
    "    if i % 1 == 0: print \"Enriched movie %s of %s\" % (i, num_movies)"
   ]
  },
  {
   "cell_type": "markdown",
   "metadata": {
    "deletable": true,
    "editable": true
   },
   "source": [
    "### Write enriched movie data to Elasticsearch"
   ]
  },
  {
   "cell_type": "code",
   "execution_count": null,
   "metadata": {
    "collapsed": false,
    "deletable": true,
    "editable": true
   },
   "outputs": [],
   "source": [
    "for m in enriched:\n",
    "    if 'release_date' in m and m['release_date'] == \"\": m.pop('release_date')\n",
    "    es.index(\"demo\", \"movies\", id=m['movieId'], body=m)"
   ]
  },
  {
   "cell_type": "code",
   "execution_count": null,
   "metadata": {
    "collapsed": false,
    "deletable": true,
    "editable": true
   },
   "outputs": [],
   "source": [
    "# check load went ok\n",
    "print \"Movie DF count: %d\" % movie_data.count()\n",
    "print \"ES index count: %d\" % es.count(index=\"demo\", doc_type=\"movies\")['count']"
   ]
  }
 ],
 "metadata": {
  "kernelspec": {
   "display_name": "Python 2",
   "language": "python",
   "name": "python2"
  },
  "language_info": {
   "codemirror_mode": {
    "name": "ipython",
    "version": 2
   },
   "file_extension": ".py",
   "mimetype": "text/x-python",
   "name": "python",
   "nbconvert_exporter": "python",
   "pygments_lexer": "ipython2",
   "version": "2.7.12"
  }
 },
 "nbformat": 4,
 "nbformat_minor": 0
}
